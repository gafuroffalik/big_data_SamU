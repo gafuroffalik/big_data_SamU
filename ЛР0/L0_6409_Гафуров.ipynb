{
  "cells": [
    {
      "cell_type": "markdown",
      "metadata": {
        "id": "82OvPKEiEqjc"
      },
      "source": [
        "# Введение в MapReduce модель на Python\n"
      ]
    },
    {
      "cell_type": "code",
      "execution_count": 1,
      "metadata": {
        "id": "JQ2cvXLjICmI"
      },
      "outputs": [],
      "source": [
        "from typing import NamedTuple # requires python 3.6+\n",
        "from typing import Iterator"
      ]
    },
    {
      "cell_type": "code",
      "execution_count": 2,
      "metadata": {
        "id": "yjPHumVwEyEg"
      },
      "outputs": [],
      "source": [
        "def MAP(_, row:NamedTuple):\n",
        "  if (row.gender == 'female'):\n",
        "    yield (row.age, row)\n",
        "\n",
        "def REDUCE(age:str, rows:Iterator[NamedTuple]):\n",
        "  sum = 0\n",
        "  count = 0\n",
        "  for row in rows:\n",
        "    sum += row.social_contacts\n",
        "    count += 1\n",
        "  if (count > 0):\n",
        "    yield (age, sum/count)\n",
        "  else:\n",
        "    yield (age, 0)"
      ]
    },
    {
      "cell_type": "markdown",
      "metadata": {
        "id": "vBKMgpG_ilaZ"
      },
      "source": [
        "Модель элемента данных"
      ]
    },
    {
      "cell_type": "code",
      "execution_count": 3,
      "metadata": {
        "id": "Rv-XIjhTJPx3"
      },
      "outputs": [],
      "source": [
        "class User(NamedTuple):\n",
        "  id: int\n",
        "  age: str\n",
        "  social_contacts: int\n",
        "  gender: str"
      ]
    },
    {
      "cell_type": "code",
      "execution_count": 4,
      "metadata": {
        "id": "5KV0Ze2vQgu5"
      },
      "outputs": [],
      "source": [
        "input_collection = [\n",
        "    User(id=0, age=55, gender='male', social_contacts=20),\n",
        "    User(id=1, age=25, gender='female', social_contacts=240),\n",
        "    User(id=2, age=25, gender='female', social_contacts=500),\n",
        "    User(id=3, age=33, gender='female', social_contacts=800)\n",
        "]"
      ]
    },
    {
      "cell_type": "markdown",
      "metadata": {
        "id": "YFeqzyZxZIFZ"
      },
      "source": [
        "Функция RECORDREADER моделирует чтение элементов с диска или по сети."
      ]
    },
    {
      "cell_type": "code",
      "execution_count": 5,
      "metadata": {
        "id": "S5HR4E_GQoMJ"
      },
      "outputs": [],
      "source": [
        "def RECORDREADER():\n",
        "  return [(u.id, u) for u in input_collection]"
      ]
    },
    {
      "cell_type": "code",
      "execution_count": 6,
      "metadata": {
        "colab": {
          "base_uri": "https://localhost:8080/"
        },
        "id": "NeEoWla-ROUy",
        "outputId": "748fc3bc-6115-47be-b1f3-497804545efd"
      },
      "outputs": [
        {
          "data": {
            "text/plain": [
              "[(0, User(id=0, age=55, social_contacts=20, gender='male')),\n",
              " (1, User(id=1, age=25, social_contacts=240, gender='female')),\n",
              " (2, User(id=2, age=25, social_contacts=500, gender='female')),\n",
              " (3, User(id=3, age=33, social_contacts=800, gender='female'))]"
            ]
          },
          "execution_count": 6,
          "metadata": {},
          "output_type": "execute_result"
        }
      ],
      "source": [
        "list(RECORDREADER())"
      ]
    },
    {
      "cell_type": "code",
      "execution_count": 7,
      "metadata": {
        "id": "YB8orgPSZs8M"
      },
      "outputs": [],
      "source": [
        "def flatten(nested_iterable):\n",
        "  for iterable in nested_iterable:\n",
        "    for element in iterable:\n",
        "      yield element"
      ]
    },
    {
      "cell_type": "code",
      "execution_count": 8,
      "metadata": {
        "colab": {
          "base_uri": "https://localhost:8080/"
        },
        "id": "74oyvDLaRmd5",
        "outputId": "6a514f10-ef74-4c8e-9d8b-41cba63cec6b"
      },
      "outputs": [
        {
          "data": {
            "text/plain": [
              "[(25, User(id=1, age=25, social_contacts=240, gender='female')),\n",
              " (25, User(id=2, age=25, social_contacts=500, gender='female')),\n",
              " (33, User(id=3, age=33, social_contacts=800, gender='female'))]"
            ]
          },
          "execution_count": 8,
          "metadata": {},
          "output_type": "execute_result"
        }
      ],
      "source": [
        "map_output = flatten(map(lambda x: MAP(*x), RECORDREADER()))\n",
        "map_output = list(map_output) # materialize\n",
        "map_output"
      ]
    },
    {
      "cell_type": "code",
      "execution_count": 9,
      "metadata": {
        "id": "8ncYDJ3-VzDn"
      },
      "outputs": [],
      "source": [
        "def groupbykey(iterable):\n",
        "  t = {}\n",
        "  for (k2, v2) in iterable:\n",
        "    t[k2] = t.get(k2, []) + [v2]\n",
        "  return t.items()"
      ]
    },
    {
      "cell_type": "code",
      "execution_count": 10,
      "metadata": {
        "colab": {
          "base_uri": "https://localhost:8080/"
        },
        "id": "cKzY_6COWOA2",
        "outputId": "865f42df-a2da-4ba5-c61b-84cffce397e1"
      },
      "outputs": [
        {
          "data": {
            "text/plain": [
              "[(25,\n",
              "  [User(id=1, age=25, social_contacts=240, gender='female'),\n",
              "   User(id=2, age=25, social_contacts=500, gender='female')]),\n",
              " (33, [User(id=3, age=33, social_contacts=800, gender='female')])]"
            ]
          },
          "execution_count": 10,
          "metadata": {},
          "output_type": "execute_result"
        }
      ],
      "source": [
        "shuffle_output = groupbykey(map_output)\n",
        "shuffle_output = list(shuffle_output)\n",
        "shuffle_output"
      ]
    },
    {
      "cell_type": "code",
      "execution_count": 11,
      "metadata": {
        "colab": {
          "base_uri": "https://localhost:8080/"
        },
        "id": "NlA7lkDDYL0t",
        "outputId": "16c35daa-2607-4079-eeab-ce2ddb39f6ea"
      },
      "outputs": [
        {
          "data": {
            "text/plain": [
              "[(25, 370.0), (33, 800.0)]"
            ]
          },
          "execution_count": 11,
          "metadata": {},
          "output_type": "execute_result"
        }
      ],
      "source": [
        "reduce_output = flatten(map(lambda x: REDUCE(*x), shuffle_output))\n",
        "reduce_output = list(reduce_output)\n",
        "reduce_output"
      ]
    },
    {
      "cell_type": "markdown",
      "metadata": {
        "id": "xf6qhHEtd6bI"
      },
      "source": [
        "Все действия одним конвейером!"
      ]
    },
    {
      "cell_type": "code",
      "execution_count": 12,
      "metadata": {
        "colab": {
          "base_uri": "https://localhost:8080/"
        },
        "id": "dZaQGYxCdpw5",
        "outputId": "7fefd485-de9d-4b5b-e97e-e49a6f8c7c18"
      },
      "outputs": [
        {
          "data": {
            "text/plain": [
              "[(25, 370.0), (33, 800.0)]"
            ]
          },
          "execution_count": 12,
          "metadata": {},
          "output_type": "execute_result"
        }
      ],
      "source": [
        "list(flatten(map(lambda x: REDUCE(*x), groupbykey(flatten(map(lambda x: MAP(*x), RECORDREADER()))))))"
      ]
    },
    {
      "cell_type": "markdown",
      "metadata": {
        "id": "Vq3EWRIpwSiJ"
      },
      "source": [
        "# **MapReduce**\n",
        "Выделим общую для всех пользователей часть системы в отдельную функцию высшего порядка. Это наиболее простая модель MapReduce, без учёта распределённого хранения данных.\n",
        "\n",
        "Пользователь для решения своей задачи реализует RECORDREADER, MAP, REDUCE."
      ]
    },
    {
      "cell_type": "code",
      "execution_count": 13,
      "metadata": {
        "id": "V1PZeQMwwVjc"
      },
      "outputs": [],
      "source": [
        "def flatten(nested_iterable):\n",
        "  for iterable in nested_iterable:\n",
        "    for element in iterable:\n",
        "      yield element\n",
        "\n",
        "def groupbykey(iterable):\n",
        "  t = {}\n",
        "  for (k2, v2) in iterable:\n",
        "    t[k2] = t.get(k2, []) + [v2]\n",
        "  return t.items()\n",
        "\n",
        "def MapReduce(RECORDREADER, MAP, REDUCE):\n",
        "  return flatten(map(lambda x: REDUCE(*x), groupbykey(flatten(map(lambda x: MAP(*x), RECORDREADER())))))"
      ]
    },
    {
      "cell_type": "markdown",
      "metadata": {
        "id": "iFIVrimep678"
      },
      "source": [
        "## Спецификация MapReduce\n",
        "\n",
        "\n",
        "\n",
        "```\n",
        "f (k1, v1) -> (k2,v2)*\n",
        "g (k2, v2*) -> (k3,v3)*\n",
        "\n",
        "mapreduce ((k1,v1)*) -> (k3,v3)*\n",
        "groupby ((k2,v2)*) -> (k2,v2*)*\n",
        "flatten (e2**) -> e2*\n",
        "\n",
        "mapreduce .map(f).flatten.groupby(k2).map(g).flatten\n",
        "```\n",
        "\n",
        "\n"
      ]
    },
    {
      "cell_type": "markdown",
      "metadata": {
        "id": "QtTFyqke3KGe"
      },
      "source": [
        "# Примеры"
      ]
    },
    {
      "cell_type": "markdown",
      "metadata": {
        "id": "BNhh5763w5Vn"
      },
      "source": [
        "## SQL"
      ]
    },
    {
      "cell_type": "code",
      "execution_count": 14,
      "metadata": {
        "colab": {
          "base_uri": "https://localhost:8080/"
        },
        "id": "QkyurnvGxBGk",
        "outputId": "f96530ad-aa4b-4a93-badb-9be2839bffce"
      },
      "outputs": [
        {
          "data": {
            "text/plain": [
              "[(25, 370.0), (33, 800.0)]"
            ]
          },
          "execution_count": 14,
          "metadata": {},
          "output_type": "execute_result"
        }
      ],
      "source": [
        "from typing import NamedTuple # requires python 3.6+\n",
        "from typing import Iterator\n",
        "\n",
        "class User(NamedTuple):\n",
        "  id: int\n",
        "  age: str\n",
        "  social_contacts: int\n",
        "  gender: str\n",
        "\n",
        "input_collection = [\n",
        "    User(id=0, age=55, gender='male', social_contacts=20),\n",
        "    User(id=1, age=25, gender='female', social_contacts=240),\n",
        "    User(id=2, age=25, gender='female', social_contacts=500),\n",
        "    User(id=3, age=33, gender='female', social_contacts=800)\n",
        "]\n",
        "\n",
        "def MAP(_, row:NamedTuple):\n",
        "  if (row.gender == 'female'):\n",
        "    yield (row.age, row)\n",
        "\n",
        "def REDUCE(age:str, rows:Iterator[NamedTuple]):\n",
        "  sum = 0\n",
        "  count = 0\n",
        "  for row in rows:\n",
        "    sum += row.social_contacts\n",
        "    count += 1\n",
        "  if (count > 0):\n",
        "    yield (age, sum/count)\n",
        "  else:\n",
        "    yield (age, 0)\n",
        "\n",
        "def RECORDREADER():\n",
        "  return [(u.id, u) for u in input_collection]\n",
        "\n",
        "output = MapReduce(RECORDREADER, MAP, REDUCE)\n",
        "output = list(output)\n",
        "output"
      ]
    },
    {
      "cell_type": "markdown",
      "metadata": {
        "id": "kNKYIeerx0nY"
      },
      "source": [
        "## Matrix-Vector multiplication"
      ]
    },
    {
      "cell_type": "code",
      "execution_count": 15,
      "metadata": {
        "colab": {
          "base_uri": "https://localhost:8080/"
        },
        "id": "rwcntRcCyi1V",
        "outputId": "8d5506ab-c94c-4411-deb3-800171e51bb6"
      },
      "outputs": [
        {
          "data": {
            "text/plain": [
              "[(0, 2.7819939631940906),\n",
              " (1, 2.7819939631940906),\n",
              " (2, 2.7819939631940906),\n",
              " (3, 2.7819939631940906),\n",
              " (4, 2.7819939631940906)]"
            ]
          },
          "execution_count": 15,
          "metadata": {},
          "output_type": "execute_result"
        }
      ],
      "source": [
        "from typing import Iterator\n",
        "import numpy as np\n",
        "\n",
        "mat = np.ones((5,4))\n",
        "vec = np.random.rand(5) # in-memory vector in all map tasks\n",
        "\n",
        "def MAP(coordinates:(int, int), value:int):\n",
        "  i, j = coordinates\n",
        "  yield (i, value*vec[j])\n",
        "\n",
        "def REDUCE(i:int, products:Iterator[NamedTuple]):\n",
        "  sum = 0\n",
        "  for p in products:\n",
        "    sum += p\n",
        "  yield (i, sum)\n",
        "\n",
        "def RECORDREADER():\n",
        "  for i in range(mat.shape[0]):\n",
        "    for j in range(mat.shape[1]):\n",
        "      yield ((i, j), mat[i,j])\n",
        "\n",
        "output = MapReduce(RECORDREADER, MAP, REDUCE)\n",
        "output = list(output)\n",
        "output"
      ]
    },
    {
      "cell_type": "markdown",
      "metadata": {
        "id": "ruZREYdi2o4O"
      },
      "source": [
        "## Inverted index"
      ]
    },
    {
      "cell_type": "code",
      "execution_count": 16,
      "metadata": {
        "colab": {
          "base_uri": "https://localhost:8080/"
        },
        "id": "vt9H9Alf3TYv",
        "outputId": "95f3eeb3-dc8d-4ce2-e01b-1eec642570d9"
      },
      "outputs": [
        {
          "data": {
            "text/plain": [
              "[('it', ['0', '1', '2']),\n",
              " ('what', ['0', '1']),\n",
              " ('is', ['0', '1', '2']),\n",
              " ('a', ['2']),\n",
              " ('banana', ['2'])]"
            ]
          },
          "execution_count": 16,
          "metadata": {},
          "output_type": "execute_result"
        }
      ],
      "source": [
        "from typing import Iterator\n",
        "\n",
        "d1 = \"it is what it is\"\n",
        "d2 = \"what is it\"\n",
        "d3 = \"it is a banana\"\n",
        "documents = [d1, d2, d3]\n",
        "\n",
        "def RECORDREADER():\n",
        "  for (docid, document) in enumerate(documents):\n",
        "    yield (\"{}\".format(docid), document)\n",
        "\n",
        "def MAP(docId:str, body:str):\n",
        "  for word in set(body.split(' ')):\n",
        "    yield (word, docId)\n",
        "\n",
        "def REDUCE(word:str, docIds:Iterator[str]):\n",
        "  yield (word, sorted(docIds))\n",
        "\n",
        "output = MapReduce(RECORDREADER, MAP, REDUCE)\n",
        "output = list(output)\n",
        "output"
      ]
    },
    {
      "cell_type": "markdown",
      "metadata": {
        "id": "R7az-6DA6qr2"
      },
      "source": [
        "## WordCount"
      ]
    },
    {
      "cell_type": "code",
      "execution_count": 17,
      "metadata": {
        "colab": {
          "base_uri": "https://localhost:8080/"
        },
        "id": "dN-nbtgG6uYG",
        "outputId": "ee929703-3b28-4e20-cc0e-e849e8565ea9"
      },
      "outputs": [
        {
          "data": {
            "text/plain": [
              "[('', 3), ('it', 9), ('is', 9), ('what', 5), ('a', 1), ('banana', 1)]"
            ]
          },
          "execution_count": 17,
          "metadata": {},
          "output_type": "execute_result"
        }
      ],
      "source": [
        "from typing import Iterator\n",
        "\n",
        "d1 = \"\"\"\n",
        "it is what it is\n",
        "it is what it is\n",
        "it is what it is\"\"\"\n",
        "d2 = \"\"\"\n",
        "what is it\n",
        "what is it\"\"\"\n",
        "d3 = \"\"\"\n",
        "it is a banana\"\"\"\n",
        "documents = [d1, d2, d3]\n",
        "\n",
        "def RECORDREADER():\n",
        "  for (docid, document) in enumerate(documents):\n",
        "    for (lineid, line) in enumerate(document.split('\\n')):\n",
        "      yield (\"{}:{}\".format(docid,lineid), line)\n",
        "\n",
        "def MAP(docId:str, line:str):\n",
        "  for word in line.split(\" \"):\n",
        "    yield (word, 1)\n",
        "\n",
        "def REDUCE(word:str, counts:Iterator[int]):\n",
        "  sum = 0\n",
        "  for c in counts:\n",
        "    sum += c\n",
        "  yield (word, sum)\n",
        "\n",
        "output = MapReduce(RECORDREADER, MAP, REDUCE)\n",
        "output = list(output)\n",
        "output"
      ]
    },
    {
      "cell_type": "markdown",
      "metadata": {
        "id": "h-jRAcYCAkkk"
      },
      "source": [
        "# MapReduce Distributed\n",
        "\n",
        "Добавляется в модель фабрика RECORDREARER-ов --- INPUTFORMAT, функция распределения промежуточных результатов по партициям PARTITIONER, и функция COMBINER для частичной аггрегации промежуточных результатов до распределения по новым партициям."
      ]
    },
    {
      "cell_type": "code",
      "execution_count": 18,
      "metadata": {
        "id": "nw-b-xJsApgW"
      },
      "outputs": [],
      "source": [
        "def flatten(nested_iterable):\n",
        "  for iterable in nested_iterable:\n",
        "    for element in iterable:\n",
        "      yield element\n",
        "\n",
        "def groupbykey(iterable):\n",
        "  t = {}\n",
        "  for (k2, v2) in iterable:\n",
        "    t[k2] = t.get(k2, []) + [v2]\n",
        "  return t.items()\n",
        "\n",
        "def groupbykey_distributed(map_partitions, PARTITIONER):\n",
        "  global reducers\n",
        "  partitions = [dict() for _ in range(reducers)]\n",
        "  for map_partition in map_partitions:\n",
        "    for (k2, v2) in map_partition:\n",
        "      p = partitions[PARTITIONER(k2)]\n",
        "      p[k2] = p.get(k2, []) + [v2]\n",
        "  return [(partition_id, sorted(partition.items(), key=lambda x: x[0])) for (partition_id, partition) in enumerate(partitions)]\n",
        "\n",
        "def PARTITIONER(obj):\n",
        "  global reducers\n",
        "  return hash(obj) % reducers\n",
        "\n",
        "def MapReduceDistributed(INPUTFORMAT, MAP, REDUCE, PARTITIONER=PARTITIONER, COMBINER=None):\n",
        "  map_partitions = map(lambda record_reader: flatten(map(lambda k1v1: MAP(*k1v1), record_reader)), INPUTFORMAT())\n",
        "  if COMBINER != None:\n",
        "    map_partitions = map(lambda map_partition: flatten(map(lambda k2v2: COMBINER(*k2v2), groupbykey(map_partition))), map_partitions)\n",
        "  reduce_partitions = groupbykey_distributed(map_partitions, PARTITIONER) # shuffle\n",
        "  reduce_outputs = map(lambda reduce_partition: (reduce_partition[0], flatten(map(lambda reduce_input_group: REDUCE(*reduce_input_group), reduce_partition[1]))), reduce_partitions)\n",
        "\n",
        "  print(\"{} key-value pairs were sent over a network.\".format(sum([len(vs) for (k,vs) in flatten([partition for (partition_id, partition) in reduce_partitions])])))\n",
        "  return reduce_outputs"
      ]
    },
    {
      "cell_type": "markdown",
      "metadata": {
        "id": "kxirlf3XqZxY"
      },
      "source": [
        "## Спецификация MapReduce Distributed\n",
        "\n",
        "\n",
        "```\n",
        "f (k1, v1) -> (k2,v2)*\n",
        "g (k2, v2*) -> (k3,v3)*\n",
        "\n",
        "e1 (k1, v1)\n",
        "e2 (k2, v2)\n",
        "partition1 (k2, v2)*\n",
        "partition2 (k2, v2*)*\n",
        "\n",
        "flatmap (e1->e2*, e1*) -> partition1*\n",
        "groupby (partition1*) -> partition2*\n",
        "\n",
        "mapreduce ((k1,v1)*) -> (k3,v3)*\n",
        "mapreduce .flatmap(f).groupby(k2).flatmap(g)\n",
        "```\n",
        "\n"
      ]
    },
    {
      "cell_type": "markdown",
      "metadata": {
        "id": "CWYw_CpbbY3C"
      },
      "source": [
        "## WordCount"
      ]
    },
    {
      "cell_type": "code",
      "execution_count": 19,
      "metadata": {
        "colab": {
          "base_uri": "https://localhost:8080/"
        },
        "id": "uR_zfGFkMZlp",
        "outputId": "085819d1-7ccf-4808-9905-81f02474a79f"
      },
      "outputs": [
        {
          "name": "stdout",
          "output_type": "stream",
          "text": [
            "56 key-value pairs were sent over a network.\n"
          ]
        },
        {
          "data": {
            "text/plain": [
              "[(0, [('', 6), ('a', 2), ('banana', 2), ('is', 18), ('it', 18), ('what', 10)]),\n",
              " (1, [])]"
            ]
          },
          "execution_count": 19,
          "metadata": {},
          "output_type": "execute_result"
        }
      ],
      "source": [
        "from typing import Iterator\n",
        "import numpy as np\n",
        "\n",
        "d1 = \"\"\"\n",
        "it is what it is\n",
        "it is what it is\n",
        "it is what it is\"\"\"\n",
        "d2 = \"\"\"\n",
        "what is it\n",
        "what is it\"\"\"\n",
        "d3 = \"\"\"\n",
        "it is a banana\"\"\"\n",
        "documents = [d1, d2, d3, d1, d2, d3]\n",
        "\n",
        "maps = 3\n",
        "reducers = 2\n",
        "\n",
        "def INPUTFORMAT():\n",
        "  global maps\n",
        "\n",
        "  def RECORDREADER(split):\n",
        "    for (docid, document) in enumerate(split):\n",
        "      for (lineid, line) in enumerate(document.split('\\n')):\n",
        "        yield (\"{}:{}\".format(docid,lineid), line)\n",
        "\n",
        "  split_size =  int(np.ceil(len(documents)/maps))\n",
        "  for i in range(0, len(documents), split_size):\n",
        "    yield RECORDREADER(documents[i:i+split_size])\n",
        "\n",
        "def MAP(docId:str, line:str):\n",
        "  for word in line.split(\" \"):\n",
        "    yield (word, 1)\n",
        "\n",
        "def REDUCE(word:str, counts:Iterator[int]):\n",
        "  sum = 0\n",
        "  for c in counts:\n",
        "    sum += c\n",
        "  yield (word, sum)\n",
        "\n",
        "# try to set COMBINER=REDUCER and look at the number of values sent over the network\n",
        "partitioned_output = MapReduceDistributed(INPUTFORMAT, MAP, REDUCE, COMBINER=None)\n",
        "partitioned_output = [(partition_id, list(partition)) for (partition_id, partition) in partitioned_output]\n",
        "partitioned_output"
      ]
    },
    {
      "cell_type": "markdown",
      "metadata": {
        "id": "gCJGx8IQ87xS"
      },
      "source": [
        "## TeraSort"
      ]
    },
    {
      "cell_type": "code",
      "execution_count": 20,
      "metadata": {
        "colab": {
          "base_uri": "https://localhost:8080/"
        },
        "id": "P2v8v1v_8_YR",
        "outputId": "2dbddaaa-cbe6-4ed5-ffbf-174027801049"
      },
      "outputs": [
        {
          "name": "stdout",
          "output_type": "stream",
          "text": [
            "30 key-value pairs were sent over a network.\n"
          ]
        },
        {
          "data": {
            "text/plain": [
              "[(0,\n",
              "  [(None, 0.036300940080006616),\n",
              "   (None, 0.05511047587468021),\n",
              "   (None, 0.057907898210579734),\n",
              "   (None, 0.06430227821586376),\n",
              "   (None, 0.07195314693351929),\n",
              "   (None, 0.1200552772479454),\n",
              "   (None, 0.1214511911485553),\n",
              "   (None, 0.14863415614849051),\n",
              "   (None, 0.16942133638706913),\n",
              "   (None, 0.17562186496729693),\n",
              "   (None, 0.1999853923512832),\n",
              "   (None, 0.2094317028382624),\n",
              "   (None, 0.243590796822722),\n",
              "   (None, 0.2923333495253152),\n",
              "   (None, 0.30026812090362687),\n",
              "   (None, 0.40002683977744846),\n",
              "   (None, 0.48777275833406974),\n",
              "   (None, 0.49196393705496366)]),\n",
              " (1,\n",
              "  [(None, 0.5361987129069867),\n",
              "   (None, 0.6197029665364847),\n",
              "   (None, 0.6687010277663297),\n",
              "   (None, 0.8176322273839227),\n",
              "   (None, 0.8192833295722282),\n",
              "   (None, 0.8460209961970176),\n",
              "   (None, 0.8770101425475751),\n",
              "   (None, 0.8920917188454885),\n",
              "   (None, 0.9153738881513708),\n",
              "   (None, 0.9160132408300369),\n",
              "   (None, 0.9356875435868286),\n",
              "   (None, 0.947855283309072)])]"
            ]
          },
          "execution_count": 20,
          "metadata": {},
          "output_type": "execute_result"
        }
      ],
      "source": [
        "import numpy as np\n",
        "\n",
        "input_values = np.random.rand(30)\n",
        "maps = 3\n",
        "reducers = 2\n",
        "min_value = 0.0\n",
        "max_value = 1.0\n",
        "\n",
        "def INPUTFORMAT():\n",
        "  global maps\n",
        "\n",
        "  def RECORDREADER(split):\n",
        "    for value in split:\n",
        "        yield (value, None)\n",
        "\n",
        "  split_size =  int(np.ceil(len(input_values)/maps))\n",
        "  for i in range(0, len(input_values), split_size):\n",
        "    yield RECORDREADER(input_values[i:i+split_size])\n",
        "\n",
        "def MAP(value:int, _):\n",
        "  yield (value, None)\n",
        "\n",
        "def PARTITIONER(key):\n",
        "  global reducers\n",
        "  global max_value\n",
        "  global min_value\n",
        "  bucket_size = (max_value-min_value)/reducers\n",
        "  bucket_id = 0\n",
        "  while((key>(bucket_id+1)*bucket_size) and ((bucket_id+1)*bucket_size<max_value)):\n",
        "    bucket_id += 1\n",
        "  return bucket_id\n",
        "\n",
        "def REDUCE(value:int, _):\n",
        "  yield (None,value)\n",
        "\n",
        "partitioned_output = MapReduceDistributed(INPUTFORMAT, MAP, REDUCE, COMBINER=None, PARTITIONER=PARTITIONER)\n",
        "partitioned_output = [(partition_id, list(partition)) for (partition_id, partition) in partitioned_output]\n",
        "partitioned_output"
      ]
    },
    {
      "cell_type": "markdown",
      "metadata": {
        "id": "Iy65YJTH99iT"
      },
      "source": [
        "# Упражнения\n",
        "Упражнения взяты из Rajaraman A., Ullman J. D. Mining of massive datasets. – Cambridge University Press, 2011.\n",
        "\n",
        "\n",
        "Для выполнения заданий переопределите функции RECORDREADER, MAP, REDUCE. Для модели распределённой системы может потребоваться переопределение функций PARTITION и COMBINER."
      ]
    },
    {
      "cell_type": "markdown",
      "metadata": {
        "id": "cfvAeZm3S8S8"
      },
      "source": [
        "### Максимальное значение ряда\n",
        "\n",
        "Разработайте MapReduce алгоритм, который находит максимальное число входного списка чисел."
      ]
    },
    {
      "cell_type": "code",
      "execution_count": 21,
      "metadata": {
        "id": "3GRA1JR-Tkbg"
      },
      "outputs": [],
      "source": [
        "import random"
      ]
    },
    {
      "cell_type": "code",
      "execution_count": 22,
      "metadata": {
        "colab": {
          "base_uri": "https://localhost:8080/"
        },
        "id": "rY8oumrBR5KD",
        "outputId": "584a944b-b6a4-46eb-f287-fa52e0951299"
      },
      "outputs": [
        {
          "data": {
            "text/plain": [
              "[(0, 100)]"
            ]
          },
          "execution_count": 22,
          "metadata": {},
          "output_type": "execute_result"
        }
      ],
      "source": [
        "input_list = [random.randint(0, 100) for _ in range(100)]\n",
        "\n",
        "\n",
        "def RECORDREADER():\n",
        "  for value in input_list:\n",
        "    yield (0, value)\n",
        "\n",
        "\n",
        "def MAP(id:int, value:int):\n",
        "  yield (id, value)\n",
        "\n",
        "\n",
        "def REDUCE(id:int, values:list):\n",
        "  yield (id, max(values))\n",
        "\n",
        "\n",
        "output = MapReduce(RECORDREADER, MAP, REDUCE)\n",
        "output = list(output)\n",
        "output"
      ]
    },
    {
      "cell_type": "markdown",
      "metadata": {
        "id": "k86bXnqZTk-U"
      },
      "source": [
        "### Арифметическое среднее\n",
        "\n",
        "Разработайте MapReduce алгоритм, который находит арифметическое среднее.\n",
        "\n",
        "$$\\overline{X} = \\frac{1}{n}\\sum_{i=0}^{n} x_i$$\n"
      ]
    },
    {
      "cell_type": "code",
      "execution_count": 23,
      "metadata": {
        "colab": {
          "base_uri": "https://localhost:8080/"
        },
        "id": "MPoY5pkfUNZf",
        "outputId": "7f7921c8-562f-40c7-ac6a-8ed1f226fa17"
      },
      "outputs": [
        {
          "data": {
            "text/plain": [
              "[(0, 3.8)]"
            ]
          },
          "execution_count": 23,
          "metadata": {},
          "output_type": "execute_result"
        }
      ],
      "source": [
        "input_list = [1, 3, 4, 5, 6]\n",
        "\n",
        "def RECORDREADER():\n",
        "  for value in input_list:\n",
        "    yield (0, value)\n",
        "\n",
        "def MAP(idx:int, value:int):\n",
        "   yield (idx, value)\n",
        "\n",
        "\n",
        "def REDUCE(idx:int, values:list):\n",
        "  yield (idx, sum(values)/len(values))\n",
        "\n",
        "output = MapReduce(RECORDREADER, MAP, REDUCE)\n",
        "output = list(output)\n",
        "output"
      ]
    },
    {
      "cell_type": "markdown",
      "metadata": {
        "id": "xanzszhsIlLe"
      },
      "source": [
        "### GroupByKey на основе сортировки\n",
        "\n",
        "Реализуйте groupByKey на основе сортировки, проверьте его работу на примерах"
      ]
    },
    {
      "cell_type": "code",
      "execution_count": 24,
      "metadata": {
        "colab": {
          "base_uri": "https://localhost:8080/"
        },
        "id": "hQPn3USsIkEC",
        "outputId": "b8608d28-bf43-43b2-e89b-4872a2fc8a9e"
      },
      "outputs": [
        {
          "name": "stdout",
          "output_type": "stream",
          "text": [
            "[(0, [User(id=0, age=55, social_contacts=20, gender='male')]), (1, [User(id=1, age=25, social_contacts=240, gender='female')]), (2, [User(id=2, age=25, social_contacts=500, gender='female')]), (3, [User(id=3, age=33, social_contacts=800, gender='female')])]\n",
            "\n",
            "[('female', [User(id=1, age=25, social_contacts=240, gender='female'), User(id=2, age=25, social_contacts=500, gender='female'), User(id=3, age=33, social_contacts=800, gender='female')]), ('male', [User(id=0, age=55, social_contacts=20, gender='male')])]\n",
            "\n",
            "[(25, [User(id=1, age=25, social_contacts=240, gender='female'), User(id=2, age=25, social_contacts=500, gender='female')]), (33, [User(id=3, age=33, social_contacts=800, gender='female')]), (55, [User(id=0, age=55, social_contacts=20, gender='male')])]\n"
          ]
        }
      ],
      "source": [
        "data_list = [\n",
        "    User(id=0, age=55, gender='male', social_contacts=20),\n",
        "    User(id=1, age=25, gender='female', social_contacts=240),\n",
        "    User(id=2, age=25, gender='female', social_contacts=500),\n",
        "    User(id=3, age=33, gender='female', social_contacts=800)\n",
        "]\n",
        "\n",
        "#{key: [...values]}\n",
        "\n",
        "def RECORDREADER(key:str):\n",
        "  for user in data_list:\n",
        "    yield (getattr(user, key), user)\n",
        "\n",
        "\n",
        "def groupByKey(iterable):\n",
        "  groups = {}\n",
        "  for key, value in sorted(iterable, key=lambda x:x[0]):\n",
        "    if key not in groups.keys():\n",
        "      groups[key] = []\n",
        "    groups[key].append(value)\n",
        "  return groups.items()\n",
        "\n",
        "\n",
        "print(list(groupByKey(flatten(map(lambda x: MAP(*x), RECORDREADER(\"id\"))))), end=\"\\n\\n\")\n",
        "\n",
        "print(list(groupByKey(flatten(map(lambda x: MAP(*x), RECORDREADER(\"gender\"))))), end=\"\\n\\n\")\n",
        "\n",
        "print(list(groupByKey(flatten(map(lambda x: MAP(*x), RECORDREADER(\"age\"))))))"
      ]
    },
    {
      "cell_type": "markdown",
      "metadata": {
        "id": "5SgEjCZyGnu6"
      },
      "source": [
        "### Drop duplicates (set construction, unique elements, distinct)\n",
        "\n",
        "Реализуйте распределённую операцию исключения дубликатов"
      ]
    },
    {
      "cell_type": "code",
      "execution_count": 25,
      "metadata": {
        "colab": {
          "base_uri": "https://localhost:8080/"
        },
        "id": "okjbyApjGhMt",
        "outputId": "eb32c48f-be8c-4c79-e995-e50669144bed"
      },
      "outputs": [
        {
          "name": "stdout",
          "output_type": "stream",
          "text": [
            "4 key-value pairs were sent over a network.\n"
          ]
        },
        {
          "data": {
            "text/plain": [
              "[(0, [[User(id=0, age=55, social_contacts=20, gender='male')]]),\n",
              " (1,\n",
              "  [[User(id=1, age=25, social_contacts=240, gender='female')],\n",
              "   [User(id=3, age=33, social_contacts=800, gender='female')]])]"
            ]
          },
          "execution_count": 25,
          "metadata": {},
          "output_type": "execute_result"
        }
      ],
      "source": [
        "import numpy as np\n",
        "\n",
        "data_list = [\n",
        "    User(id=0, age=55, gender='male', social_contacts=20),\n",
        "    User(id=1, age=25, gender='female', social_contacts=240),\n",
        "    User(id=1, age=25, gender='female', social_contacts=240),\n",
        "    User(id=3, age=33, gender='female', social_contacts=800)\n",
        "]\n",
        "\n",
        "maps = 2\n",
        "reducers = 2\n",
        "\n",
        "def INPUTFORMAT():\n",
        "  global maps\n",
        "\n",
        "  def RECORDREADER(split):\n",
        "    for user in split:\n",
        "      yield (user.id, user)\n",
        "\n",
        "  split_size = int(np.ceil(len(data_list)/maps))\n",
        "  for i in range(0, len(data_list), split_size):\n",
        "    yield RECORDREADER(data_list[i:i+split_size])\n",
        "\n",
        "\n",
        "def MAP(userId:int, user:User):\n",
        "  yield (userId, user)\n",
        "\n",
        "\n",
        "def REDUCE(_, usersList:list):\n",
        "  yield (list(set(usersList)))\n",
        "\n",
        "\n",
        "partitioned_output = MapReduceDistributed(INPUTFORMAT, MAP, REDUCE, COMBINER=None)\n",
        "partitioned_output = [(partition_id, list(partition)) for (partition_id, partition) in partitioned_output]\n",
        "partitioned_output"
      ]
    },
    {
      "cell_type": "markdown",
      "metadata": {
        "id": "e7sRGoTXuJze"
      },
      "source": [
        "#Операторы реляционной алгебры\n",
        "### Selection (Выборка)\n",
        "\n",
        "**The Map Function**: Для  каждого кортежа $t \\in R$ вычисляется истинность предиката $C$. В случае истины создаётся пара ключ-значение $(t, t)$. В паре ключ и значение одинаковы, равны $t$.\n",
        "\n",
        "**The Reduce Function:** Роль функции Reduce выполняет функция идентичности, которая возвращает то же значение, что получила на вход.\n",
        "\n"
      ]
    },
    {
      "cell_type": "code",
      "execution_count": 26,
      "metadata": {
        "colab": {
          "base_uri": "https://localhost:8080/"
        },
        "id": "4nKIKe59uIfc",
        "outputId": "e3aaf11c-a306-4835-b01a-11ff252fab6b"
      },
      "outputs": [
        {
          "data": {
            "text/plain": [
              "[[User(id=1, age=25, social_contacts=240, gender='female')],\n",
              " [User(id=2, age=25, social_contacts=240, gender='female')],\n",
              " [User(id=3, age=33, social_contacts=800, gender='female')]]"
            ]
          },
          "execution_count": 26,
          "metadata": {},
          "output_type": "execute_result"
        }
      ],
      "source": [
        "data_list = [\n",
        "    User(id=0, age=55, gender='male', social_contacts=20),\n",
        "    User(id=1, age=25, gender='female', social_contacts=240),\n",
        "    User(id=2, age=25, gender='female', social_contacts=240),\n",
        "    User(id=3, age=33, gender='female', social_contacts=800)\n",
        "]\n",
        "\n",
        "\n",
        "def RECORDREADER():\n",
        "  for user in data_list:\n",
        "    yield (user.id, user)\n",
        "\n",
        "\n",
        "def MAP(userId:int, user:User):\n",
        "  if user.age < 45:\n",
        "    yield (user, user)\n",
        "\n",
        "\n",
        "def REDUCE(userId:int, user:User):\n",
        "  yield user\n",
        "\n",
        "\n",
        "output = MapReduce(RECORDREADER, MAP, REDUCE)\n",
        "output = list(output)\n",
        "output"
      ]
    },
    {
      "cell_type": "markdown",
      "metadata": {
        "id": "w27Ca-_Ku85V"
      },
      "source": [
        "### Projection (Проекция)\n",
        "\n",
        "Проекция на множество атрибутов $S$.\n",
        "\n",
        "**The Map Function:** Для каждого кортежа $t \\in R$ создайте кортеж $t′$, исключая  из $t$ те значения, атрибуты которых не принадлежат  $S$. Верните пару $(t′, t′)$.\n",
        "\n",
        "**The Reduce Function:** Для каждого ключа $t′$, созданного любой Map задачей, вы получаете одну или несколько пар $(t′, t′)$. Reduce функция преобразует $(t′, [t′, t′, . . . , t′])$ в $(t′, t′)$, так, что для ключа $t′$ возвращается одна пара  $(t′, t′)$."
      ]
    },
    {
      "cell_type": "code",
      "execution_count": 27,
      "metadata": {
        "colab": {
          "base_uri": "https://localhost:8080/"
        },
        "id": "BEvuY4GqvhS6",
        "outputId": "ef6477c9-373a-4e7d-fc22-59d4e92d4b40"
      },
      "outputs": [
        {
          "data": {
            "text/plain": [
              "[(UserProjection(id=0, gender='male'), UserProjection(id=0, gender='male')),\n",
              " (UserProjection(id=1, gender='female'),\n",
              "  UserProjection(id=1, gender='female')),\n",
              " (UserProjection(id=2, gender='female'),\n",
              "  UserProjection(id=2, gender='female')),\n",
              " (UserProjection(id=3, gender='female'),\n",
              "  UserProjection(id=3, gender='female'))]"
            ]
          },
          "execution_count": 27,
          "metadata": {},
          "output_type": "execute_result"
        }
      ],
      "source": [
        "class UserProjection(NamedTuple):\n",
        "  id: int\n",
        "  gender: str\n",
        "\n",
        "\n",
        "data_list = [\n",
        "    User(id=0, age=55, gender='male', social_contacts=20),\n",
        "    User(id=1, age=25, gender='female', social_contacts=240),\n",
        "    User(id=2, age=25, gender='female', social_contacts=240),\n",
        "    User(id=3, age=33, gender='female', social_contacts=800)\n",
        "]\n",
        "\n",
        "\n",
        "def RECORDREADER():\n",
        "  for user in data_list:\n",
        "    yield (user.id, user)\n",
        "\n",
        "\n",
        "def MAP(userId:int, user:User):\n",
        "  new_user = UserProjection(userId, user.gender)\n",
        "  yield(new_user, new_user)\n",
        "\n",
        "\n",
        "def REDUCE(key:UserProjection, usersList:list):\n",
        "  yield (key, key)\n",
        "\n",
        "\n",
        "output = MapReduce(RECORDREADER, MAP, REDUCE)\n",
        "output = list(output)\n",
        "output"
      ]
    },
    {
      "cell_type": "markdown",
      "metadata": {
        "id": "7gau6lKXvn2R"
      },
      "source": [
        "### Union (Объединение)\n",
        "\n",
        "**The Map Function:** Превратите каждый входной кортеж $t$ в пару ключ-значение $(t, t)$.\n",
        "\n",
        "**The Reduce Function:** С каждым ключом $t$ будет ассоциировано одно или два значений. В обоих случаях создайте $(t, t)$ в качестве выходного значения."
      ]
    },
    {
      "cell_type": "code",
      "execution_count": 28,
      "metadata": {
        "colab": {
          "base_uri": "https://localhost:8080/"
        },
        "id": "Sns7a5agv3nw",
        "outputId": "af6e50bb-890d-4508-ee08-493358f600d9"
      },
      "outputs": [
        {
          "data": {
            "text/plain": [
              "[(User(id=0, age=55, social_contacts=20, gender='male'),\n",
              "  User(id=0, age=55, social_contacts=20, gender='male')),\n",
              " (User(id=1, age=25, social_contacts=240, gender='female'),\n",
              "  User(id=1, age=25, social_contacts=240, gender='female')),\n",
              " (User(id=2, age=25, social_contacts=240, gender='female'),\n",
              "  User(id=2, age=25, social_contacts=240, gender='female')),\n",
              " (User(id=3, age=33, social_contacts=800, gender='female'),\n",
              "  User(id=3, age=33, social_contacts=800, gender='female')),\n",
              " (User(id=4, age=25, social_contacts=240, gender='female'),\n",
              "  User(id=4, age=25, social_contacts=240, gender='female')),\n",
              " (User(id=5, age=25, social_contacts=240, gender='female'),\n",
              "  User(id=5, age=25, social_contacts=240, gender='female')),\n",
              " (User(id=6, age=33, social_contacts=800, gender='female'),\n",
              "  User(id=6, age=33, social_contacts=800, gender='female'))]"
            ]
          },
          "execution_count": 28,
          "metadata": {},
          "output_type": "execute_result"
        }
      ],
      "source": [
        "data_list1 = [\n",
        "    User(id=0, age=55, gender='male', social_contacts=20),\n",
        "    User(id=1, age=25, gender='female', social_contacts=240),\n",
        "    User(id=2, age=25, gender='female', social_contacts=240),\n",
        "    User(id=3, age=33, gender='female', social_contacts=800)\n",
        "]\n",
        "\n",
        "data_list2 = [\n",
        "    User(id=0, age=55, gender='male', social_contacts=20),\n",
        "    User(id=4, age=25, gender='female', social_contacts=240),\n",
        "    User(id=5, age=25, gender='female', social_contacts=240),\n",
        "    User(id=6, age=33, gender='female', social_contacts=800)\n",
        "]\n",
        "\n",
        "data_list = [data_list1, data_list2]\n",
        "\n",
        "\n",
        "def RECORDREADER():\n",
        "  for list_ in data_list:\n",
        "    for user in list_:\n",
        "      yield (user.id, user)\n",
        "\n",
        "\n",
        "def MAP(userId:int, user:User):\n",
        "  yield(user, user)\n",
        "\n",
        "\n",
        "def REDUCE(key:User, usersList:list):\n",
        "  yield (key, key)\n",
        "\n",
        "\n",
        "output = MapReduce(RECORDREADER, MAP, REDUCE)\n",
        "output = list(output)\n",
        "output"
      ]
    },
    {
      "cell_type": "markdown",
      "metadata": {
        "id": "dQ8TuEbjv4J8"
      },
      "source": [
        "### Intersection (Пересечение)\n",
        "\n",
        "**The Map Function:** Превратите каждый кортеж $t$ в пары ключ-значение $(t, t)$.\n",
        "\n",
        "**The Reduce Function:** Если для ключа $t$ есть список из двух элементов $[t, t]$ $-$ создайте пару $(t, t)$. Иначе, ничего не создавайте."
      ]
    },
    {
      "cell_type": "code",
      "execution_count": 29,
      "metadata": {
        "colab": {
          "base_uri": "https://localhost:8080/"
        },
        "id": "XKlBZh4IwERR",
        "outputId": "49fd5269-b73f-4357-c536-58153120fb0b"
      },
      "outputs": [
        {
          "data": {
            "text/plain": [
              "[(User(id=0, age=55, social_contacts=20, gender='male'),\n",
              "  User(id=0, age=55, social_contacts=20, gender='male'))]"
            ]
          },
          "execution_count": 29,
          "metadata": {},
          "output_type": "execute_result"
        }
      ],
      "source": [
        "data_list1 = [\n",
        "    User(id=0, age=55, gender='male', social_contacts=20),\n",
        "    User(id=1, age=25, gender='female', social_contacts=240),\n",
        "    User(id=2, age=25, gender='female', social_contacts=240),\n",
        "    User(id=3, age=33, gender='female', social_contacts=800)\n",
        "]\n",
        "\n",
        "data_list2 = [\n",
        "    User(id=0, age=55, gender='male', social_contacts=20),\n",
        "    User(id=4, age=25, gender='female', social_contacts=240),\n",
        "    User(id=5, age=25, gender='female', social_contacts=240),\n",
        "    User(id=6, age=33, gender='female', social_contacts=800)\n",
        "]\n",
        "\n",
        "data_list = [data_list1, data_list2]\n",
        "\n",
        "\n",
        "def RECORDREADER():\n",
        "  for list_ in data_list:\n",
        "    for user in list_:\n",
        "      yield (user.id, user)\n",
        "\n",
        "\n",
        "def MAP(userId:int, user:User):\n",
        "  yield(user, user)\n",
        "\n",
        "\n",
        "def REDUCE(key:User, usersList:list):\n",
        "  if len(usersList) == 2:\n",
        "    yield (key, key)\n",
        "\n",
        "\n",
        "output = MapReduce(RECORDREADER, MAP, REDUCE)\n",
        "output = list(output)\n",
        "output"
      ]
    },
    {
      "cell_type": "markdown",
      "metadata": {
        "id": "AVOpqoY3wE5k"
      },
      "source": [
        "### Difference (Разница)\n",
        "\n",
        "**The Map Function:** Для кортежа $t \\in R$, создайте пару $(t, R)$, и для кортежа $t \\in S$, создайте пару $(t, S)$. Задумка заключается в том, чтобы значение пары было именем отношения $R$ or $S$, которому принадлежит кортеж (а лучше, единичный бит, по которому можно два отношения различить $R$ or $S$), а не весь набор атрибутов отношения.\n",
        "\n",
        "**The Reduce Function:** Для каждого ключа $t$, если соответствующее значение является списком $[R]$, создайте пару $(t, t)$. В иных случаях не предпринимайте действий."
      ]
    },
    {
      "cell_type": "code",
      "execution_count": 30,
      "metadata": {
        "colab": {
          "base_uri": "https://localhost:8080/"
        },
        "id": "QE_AC09lwZIZ",
        "outputId": "60366ccd-330f-44f6-845c-266f38005606"
      },
      "outputs": [
        {
          "data": {
            "text/plain": [
              "[(User(id=1, age=25, social_contacts=240, gender='female'),\n",
              "  User(id=1, age=25, social_contacts=240, gender='female')),\n",
              " (User(id=2, age=25, social_contacts=240, gender='female'),\n",
              "  User(id=2, age=25, social_contacts=240, gender='female')),\n",
              " (User(id=3, age=33, social_contacts=800, gender='female'),\n",
              "  User(id=3, age=33, social_contacts=800, gender='female'))]"
            ]
          },
          "execution_count": 30,
          "metadata": {},
          "output_type": "execute_result"
        }
      ],
      "source": [
        "data_list1 = [\n",
        "    User(id=0, age=55, gender='male', social_contacts=20),\n",
        "    User(id=1, age=25, gender='female', social_contacts=240),\n",
        "    User(id=2, age=25, gender='female', social_contacts=240),\n",
        "    User(id=3, age=33, gender='female', social_contacts=800)\n",
        "]\n",
        "\n",
        "data_list2 = [\n",
        "    User(id=0, age=55, gender='male', social_contacts=20),\n",
        "    User(id=4, age=25, gender='female', social_contacts=240),\n",
        "    User(id=5, age=25, gender='female', social_contacts=240),\n",
        "    User(id=6, age=33, gender='female', social_contacts=800)\n",
        "]\n",
        "\n",
        "data_list = [data_list1, data_list2]\n",
        "\n",
        "\n",
        "def RECORDREADER():\n",
        "  for idx, list_ in enumerate(data_list):\n",
        "    for user in list_:\n",
        "      yield (idx, user)\n",
        "\n",
        "\n",
        "def MAP(setId:int, user:User):\n",
        "  yield(user, setId)\n",
        "\n",
        "\n",
        "def REDUCE(key:User, setList:list):\n",
        "  if len(setList) == 1 and setList[0] == 0:\n",
        "    yield (key, key)\n",
        "\n",
        "\n",
        "output = MapReduce(RECORDREADER, MAP, REDUCE)\n",
        "output = list(output)\n",
        "output"
      ]
    },
    {
      "cell_type": "markdown",
      "metadata": {
        "id": "j8I58V2VwhSm"
      },
      "source": [
        "### Natural Join\n",
        "\n",
        "**The Map Function:** Для каждого кортежа $(a, b)$ отношения $R$, создайте пару $(b,(R, a))$. Для каждого кортежа $(b, c)$ отношения $S$, создайте пару $(b,(S, c))$.\n",
        "\n",
        "**The Reduce Function:** Каждый ключ $b$ будет асоциирован со списком пар, которые принимают форму либо $(R, a)$, либо $(S, c)$. Создайте все пары, одни, состоящие из  первого компонента $R$, а другие, из первого компонента $S$, то есть $(R, a)$ и $(S, c)$. На выходе вы получаете последовательность пар ключ-значение из списков ключей и значений. Ключ не нужен. Каждое значение, это тройка $(a, b, c)$ такая, что $(R, a)$ и $(S, c)$ это принадлежат входному списку значений."
      ]
    },
    {
      "cell_type": "code",
      "execution_count": 31,
      "metadata": {
        "colab": {
          "base_uri": "https://localhost:8080/"
        },
        "id": "yHiuuTctw86I",
        "outputId": "203577be-100e-4b9f-c486-ed7e677530fd"
      },
      "outputs": [
        {
          "data": {
            "text/plain": [
              "[(0, 'male', 200), (1, 'female', 250), (2, 'female', 250), (3, 'female', 250)]"
            ]
          },
          "execution_count": 31,
          "metadata": {},
          "output_type": "execute_result"
        }
      ],
      "source": [
        "class GenderSalary(NamedTuple):\n",
        "  gender: str\n",
        "  salary: int\n",
        "\n",
        "\n",
        "users_list = [\n",
        "    UserProjection(id=0, gender='male'),\n",
        "    UserProjection(id=1, gender='female'),\n",
        "    UserProjection(id=2, gender='female'),\n",
        "    UserProjection(id=3, gender='female')\n",
        "]\n",
        "\n",
        "salary_list = [\n",
        "    GenderSalary(gender='male', salary=200),\n",
        "    GenderSalary(gender='female', salary=250)\n",
        "]\n",
        "\n",
        "data_list = [users_list, salary_list]\n",
        "\n",
        "\n",
        "def RECORDREADER():\n",
        "  for idx, list_ in enumerate(data_list):\n",
        "    for obj in list_:\n",
        "      yield (idx, obj)\n",
        "\n",
        "\n",
        "def MAP(setId:int, obj:NamedTuple):\n",
        "  if setId == 0:\n",
        "    yield (obj.gender, (0, obj.id))\n",
        "  else:\n",
        "    yield (obj.gender, (1, obj.salary))\n",
        "\n",
        "\n",
        "def REDUCE(key:str, data:list):\n",
        "  data_R = [a for (setId, a) in data if setId == 0]\n",
        "  data_S = [c for (setId, c) in data if setId == 1]\n",
        "  for a in data_R:\n",
        "    for c in data_S:\n",
        "      yield (a, key, c)\n",
        "\n",
        "\n",
        "output = MapReduce(RECORDREADER, MAP, REDUCE)\n",
        "output = list(output)\n",
        "output"
      ]
    },
    {
      "cell_type": "markdown",
      "metadata": {
        "id": "kYdlr0YUxE27"
      },
      "source": [
        "### Grouping and Aggregation (Группировка и аггрегация)\n",
        "\n",
        "**The Map Function:** Для каждого кортежа $(a, b, c$) создайте пару $(a, b)$.\n",
        "\n",
        "**The Reduce Function:** Ключ представляет ту или иную группу. Примените аггрегирующую операцию $\\theta$ к списку значений $[b1, b2, . . . , bn]$ ассоциированных с ключом $a$. Возвращайте в выходной поток $(a, x)$, где $x$ результат применения  $\\theta$ к списку. Например, если $\\theta$ это $SUM$, тогда $x = b1 + b2 + · · · + bn$, а если $\\theta$ is $MAX$, тогда $x$ это максимальное из значений $b1, b2, . . . , bn$."
      ]
    },
    {
      "cell_type": "code",
      "execution_count": 32,
      "metadata": {
        "colab": {
          "base_uri": "https://localhost:8080/"
        },
        "id": "MLPckfEGxico",
        "outputId": "69150cbb-4833-43b7-d475-7a281cd8894c"
      },
      "outputs": [
        {
          "data": {
            "text/plain": [
              "[(0, 2200), (1, 1800)]"
            ]
          },
          "execution_count": 32,
          "metadata": {},
          "output_type": "execute_result"
        }
      ],
      "source": [
        "class GenderSalaryByGroup(NamedTuple):\n",
        "  groupId: int\n",
        "  salary: int\n",
        "  gender: str\n",
        "\n",
        "salary_list1 = [\n",
        "    GenderSalary(gender='male', salary=900),\n",
        "    GenderSalary(gender='female', salary=250),\n",
        "    GenderSalary(gender='female', salary=150),\n",
        "    GenderSalary(gender='male', salary=50),\n",
        "    GenderSalary(gender='male', salary=850)\n",
        "]\n",
        "\n",
        "salary_list2 = [\n",
        "    GenderSalary(gender='male', salary=200),\n",
        "    GenderSalary(gender='female', salary=350),\n",
        "    GenderSalary(gender='female', salary=550),\n",
        "    GenderSalary(gender='male', salary=650),\n",
        "    GenderSalary(gender='male', salary=50)\n",
        "]\n",
        "\n",
        "data_list = [salary_list1, salary_list2]\n",
        "\n",
        "\n",
        "def RECORDREADER():\n",
        "  for idx, list_ in enumerate(data_list):\n",
        "    for gSalary in list_:\n",
        "      yield (idx, GenderSalaryByGroup(idx, gSalary.salary, gSalary.gender))\n",
        "\n",
        "\n",
        "def MAP(groupId:int, gSalary:GenderSalaryByGroup):\n",
        "  yield (groupId, gSalary.salary)\n",
        "\n",
        "\n",
        "def REDUCE(setId:int, data:list):\n",
        "  yield (setId, sum(data))\n",
        "\n",
        "\n",
        "output = MapReduce(RECORDREADER, MAP, REDUCE)\n",
        "output = list(output)\n",
        "output"
      ]
    },
    {
      "cell_type": "markdown",
      "metadata": {
        "id": "03IffTEOJgOb"
      },
      "source": [
        "#"
      ]
    },
    {
      "cell_type": "markdown",
      "metadata": {
        "id": "IIrRgvG4RIS4"
      },
      "source": [
        "### Matrix-Vector multiplication\n",
        "\n",
        "Случай, когда вектор не помещается в памяти Map задачи\n"
      ]
    },
    {
      "cell_type": "code",
      "execution_count": 33,
      "metadata": {
        "colab": {
          "base_uri": "https://localhost:8080/"
        },
        "id": "UxD__Ob2W6e_",
        "outputId": "f5bc4135-8902-4868-dbd8-4703c79830c7"
      },
      "outputs": [
        {
          "name": "stdout",
          "output_type": "stream",
          "text": [
            "16 key-value pairs were sent over a network.\n"
          ]
        },
        {
          "data": {
            "text/plain": [
              "[(0, [(0, 8.0), (1, 8.0)])]"
            ]
          },
          "execution_count": 33,
          "metadata": {},
          "output_type": "execute_result"
        }
      ],
      "source": [
        "# в каждую Map задачу попадает значение вектора и значение матрицы\n",
        "import numpy as np\n",
        "\n",
        "mat = np.ones((4, 4))\n",
        "vec = np.array([2, 4, 1, 1])\n",
        "\n",
        "maps = 3\n",
        "reducers = 1\n",
        "\n",
        "def INPUTFORMAT():\n",
        "  global maps\n",
        "\n",
        "  def RECORDREADER(split):\n",
        "    for i in range(split.shape[0]):\n",
        "      for j in range(split.shape[1]):\n",
        "        yield ((i, j), (split[i, j], vec[j], split.shape[1]))\n",
        "\n",
        "  split_size = int(np.ceil(len(mat) / maps))\n",
        "\n",
        "  for i in range(0, len(mat), split_size):\n",
        "    yield RECORDREADER(mat[i: i + split_size])\n",
        "\n",
        "\n",
        "def MAP(coordinates:(int, int), values:(int, int, int)):\n",
        "  i, j = coordinates\n",
        "  mat_val, vec_val, cols = values\n",
        "  yield ((i, cols), mat_val * vec_val)\n",
        "\n",
        "\n",
        "def REDUCE(keys:(int, int), products:Iterator[NamedTuple]):\n",
        "  i, cols = keys\n",
        "  yield (i, sum(products) / (len(products) / cols))\n",
        "\n",
        "\n",
        "partitioned_output = MapReduceDistributed(INPUTFORMAT, MAP, REDUCE, COMBINER=None)\n",
        "partitioned_output = [(partition_id, list(partition)) for (partition_id, partition) in partitioned_output]\n",
        "partitioned_output"
      ]
    },
    {
      "cell_type": "markdown",
      "metadata": {
        "id": "GIo2t7nNxvA9"
      },
      "source": [
        "## Matrix multiplication (Перемножение матриц)\n",
        "\n",
        "Если у нас есть матрица $M$ с элементами $m_{ij}$ в строке $i$ и столбце $j$, и матрица $N$ с элементами $n_{jk}$ в строке $j$ и столбце $k$, тогда их произведение $P = MN$ есть матрица $P$ с элементами $p_{ik}$ в строке $i$ и столбце $k$, где\n",
        "\n",
        "$$p_{ik} =\\sum_{j} m_{ij}n_{jk}$$\n",
        "\n",
        "Необходимым требованием является одинаковое количество столбцов в $M$ и строк в $N$, чтобы операция суммирования по  $j$ была осмысленной. Мы можем размышлять о матрице, как об отношении с тремя атрибутами: номер строки, номер столбца, само значение. Таким образом матрица $M$ предстваляется как отношение $ M(I, J, V )$, с кортежами $(i, j, m_{ij})$, и, аналогично, матрица $N$ представляется как отношение $N(J, K, W)$, с кортежами $(j, k, n_{jk})$. Так как большие матрицы как правило разреженные (большинство значений равно 0), и так как мы можем нулевыми значениями пренебречь (не хранить), такое реляционное представление достаточно эффективно для больших матриц. Однако, возможно, что координаты $i$, $j$, и $k$ неявно закодированы в смещение позиции элемента относительно начала файла, вместо явного хранения. Тогда, функция Map (или Reader) должна быть разработана таким образом, чтобы реконструировать компоненты $I$, $J$, и $K$ кортежей из смещения.\n",
        "\n",
        "Произведение $MN$ это фактически join, за которым следуют группировка по ключу и аггрегация. Таким образом join отношений $M(I, J, V )$ и $N(J, K, W)$, имеющих общим только атрибут $J$, создаст кортежи $(i, j, k, v, w)$ из каждого кортежа $(i, j, v) \\in M$ и кортежа $(j, k, w) \\in N$. Такой 5 компонентный кортеж представляет пару элементов матрицы $(m_{ij} , n_{jk})$. Что нам хотелось бы получить на самом деле, это произведение этих элементов, то есть, 4 компонентный кортеж$(i, j, k, v \\times w)$, так как он представляет произведение $m_{ij}n_{jk}$. Мы представляем отношение как результат одной MapReduce операции, в которой мы можем произвести группировку и аггрегацию, с $I$ и $K$  атрибутами, по которым идёт группировка, и суммой  $V \\times W$.\n",
        "\n",
        "\n",
        "\n"
      ]
    },
    {
      "cell_type": "code",
      "execution_count": 34,
      "metadata": {
        "id": "1MBkGaLAYVCt"
      },
      "outputs": [],
      "source": [
        "# MapReduce model\n",
        "def flatten(nested_iterable):\n",
        "  for iterable in nested_iterable:\n",
        "    for element in iterable:\n",
        "      yield element\n",
        "\n",
        "def groupbykey(iterable):\n",
        "  t = {}\n",
        "  for (k2, v2) in iterable:\n",
        "    t[k2] = t.get(k2, []) + [v2]\n",
        "  return t.items()\n",
        "\n",
        "def MapReduce(RECORDREADER, MAP, REDUCE):\n",
        "  return flatten(map(lambda x: REDUCE(*x), groupbykey(flatten(map(lambda x: MAP(*x), RECORDREADER())))))"
      ]
    },
    {
      "cell_type": "markdown",
      "metadata": {
        "id": "sMspsOT0ZB35"
      },
      "source": [
        "Реализуйте перемножение матриц с использованием модельного кода MapReduce для одной машины в случае, когда одна матрица хранится в памяти, а другая генерируется RECORDREADER-ом."
      ]
    },
    {
      "cell_type": "code",
      "execution_count": 35,
      "metadata": {
        "id": "psP1XekbsEjS"
      },
      "outputs": [],
      "source": [
        "import numpy as np\n",
        "I = 2\n",
        "J = 3\n",
        "K = 4*10\n",
        "small_mat = np.random.rand(I, J) # it is legal to access this from RECORDREADER, MAP, REDUCE\n",
        "big_mat = np.random.rand(J, K)\n",
        "\n",
        "def RECORDREADER():\n",
        "  for j in range(big_mat.shape[0]):\n",
        "    for k in range(big_mat.shape[1]):\n",
        "      yield ((j, k), big_mat[j, k])\n",
        "\n",
        "# coordinates - индекс элемента (строка, столбец), value - его значение\n",
        "def MAP(coordinates:(int, int), value:int):\n",
        "  j, k = coordinates\n",
        "  # бегаем по строкам в маленькой матрице\n",
        "  # индекс строки в новой матрице - индекс строки в маленькой матрице, индекс столбца новой матрицы - индекс столбца в большой матрице\n",
        "  for row in range(small_mat.shape[0]):\n",
        "    yield ((row, k), value * small_mat[row][j])\n",
        "\n",
        "def REDUCE(key, values):\n",
        "  yield (key, sum(values))"
      ]
    },
    {
      "cell_type": "markdown",
      "metadata": {
        "id": "rnt306LHhHrm"
      },
      "source": [
        "Проверьте своё решение"
      ]
    },
    {
      "cell_type": "code",
      "execution_count": 36,
      "metadata": {
        "colab": {
          "base_uri": "https://localhost:8080/"
        },
        "id": "Ewy_ZNYqW5a2",
        "outputId": "f0d4ff29-a83c-4f89-d976-2f659994fb46"
      },
      "outputs": [
        {
          "data": {
            "text/plain": [
              "True"
            ]
          },
          "execution_count": 36,
          "metadata": {},
          "output_type": "execute_result"
        }
      ],
      "source": [
        "# CHECK THE SOLUTION\n",
        "reference_solution = np.matmul(small_mat, big_mat)\n",
        "solution = MapReduce(RECORDREADER, MAP, REDUCE)\n",
        "\n",
        "def asmatrix(reduce_output):\n",
        "  reduce_output = list(reduce_output)\n",
        "  I = max(i for ((i,k), vw) in reduce_output) + 1\n",
        "  K = max(k for ((i,k), vw) in reduce_output) + 1\n",
        "  mat = np.empty(shape=(I,K))\n",
        "  for ((i,k), vw) in reduce_output:\n",
        "    mat[i,k] = vw\n",
        "  return mat\n",
        "\n",
        "np.allclose(reference_solution, asmatrix(solution)) # should return true"
      ]
    },
    {
      "cell_type": "code",
      "execution_count": 37,
      "metadata": {
        "colab": {
          "base_uri": "https://localhost:8080/"
        },
        "id": "TK7v4CEcfxqf",
        "outputId": "fb585700-1cf4-4ba6-c5d1-01b44f3dc9d8"
      },
      "outputs": [
        {
          "data": {
            "text/plain": [
              "1"
            ]
          },
          "execution_count": 37,
          "metadata": {},
          "output_type": "execute_result"
        }
      ],
      "source": [
        "reduce_output = list(MapReduce(RECORDREADER, MAP, REDUCE))\n",
        "max(i for ((i,k), vw) in reduce_output)"
      ]
    },
    {
      "cell_type": "markdown",
      "metadata": {
        "id": "i4yyg3kOZqJJ"
      },
      "source": [
        "Реализуйте перемножение матриц  с использованием модельного кода MapReduce для одной машины в случае, когда обе матрицы генерируются в RECORDREADER. Например, сначала одна, а потом другая."
      ]
    },
    {
      "cell_type": "code",
      "execution_count": 38,
      "metadata": {
        "colab": {
          "base_uri": "https://localhost:8080/"
        },
        "id": "3B7rIAJCaHZq",
        "outputId": "0cd70836-827e-473a-f83b-0beda0725ebe"
      },
      "outputs": [
        {
          "data": {
            "text/plain": [
              "True"
            ]
          },
          "execution_count": 38,
          "metadata": {},
          "output_type": "execute_result"
        }
      ],
      "source": [
        "def RECORDREADER():\n",
        "  for k in range(big_mat.shape[1]):\n",
        "    for i in range(small_mat.shape[0]):\n",
        "      for j in range(small_mat.shape[1]):\n",
        "        yield ((i, k), (0, small_mat[i, j]))\n",
        "\n",
        "  for i in range(small_mat.shape[0]):\n",
        "    for j in range(big_mat.shape[0]):\n",
        "      for k in range(big_mat.shape[1]):\n",
        "        yield ((i, k), (1, big_mat[j, k]))\n",
        "\n",
        "\n",
        "def MAP(coordinates:(int, int), values:(int, int)):\n",
        "  yield (coordinates, values)\n",
        "\n",
        "\n",
        "def REDUCE(coordinates:(int, int), values:list):\n",
        "  small_mat_vals = [val for mat_idx, val in values if mat_idx == 0]\n",
        "  big_mat_vals = [val for mat_idx, val in values if mat_idx == 1]\n",
        "  yield (coordinates, np.dot(small_mat_vals, big_mat_vals))\n",
        "\n",
        "\n",
        "output = MapReduce(RECORDREADER, MAP, REDUCE)\n",
        "\n",
        "np.allclose(reference_solution, asmatrix(output)) # should return true"
      ]
    },
    {
      "cell_type": "markdown",
      "metadata": {
        "id": "mXyzQi1DaIwo"
      },
      "source": [
        "Реализуйте перемножение матриц с использованием модельного кода MapReduce Distributed, когда каждая матрица генерируется в своём RECORDREADER."
      ]
    },
    {
      "cell_type": "code",
      "execution_count": 39,
      "metadata": {
        "colab": {
          "base_uri": "https://localhost:8080/"
        },
        "id": "TDM_s78Rb5eR",
        "outputId": "1117cdda-53f9-4b5e-a3b3-87da933f27af"
      },
      "outputs": [
        {
          "name": "stdout",
          "output_type": "stream",
          "text": [
            "480 key-value pairs were sent over a network.\n"
          ]
        },
        {
          "data": {
            "text/plain": [
              "True"
            ]
          },
          "execution_count": 39,
          "metadata": {},
          "output_type": "execute_result"
        }
      ],
      "source": [
        "maps = 2\n",
        "reducers = 1\n",
        "\n",
        "def INPUTFORMAT():\n",
        "  global maps\n",
        "  small_rows = small_mat.shape[0]\n",
        "  big_rows = big_mat.shape[0]\n",
        "\n",
        "\n",
        "  def RECORDREADER_SMALL(split, idx):\n",
        "    for k in range(big_mat.shape[1]):\n",
        "      for i in range(split.shape[0]):\n",
        "        for j in range(split.shape[1]):\n",
        "          yield ((i + idx, k), (0, split[i, j]))\n",
        "\n",
        "\n",
        "  split_size = int(np.ceil(small_rows / maps))\n",
        "  for i in range(0, small_rows, split_size):\n",
        "    yield RECORDREADER_SMALL(small_mat[i : i + split_size], i)\n",
        "\n",
        "\n",
        "  def RECORDREADER_BIG(split):\n",
        "    for i in range(small_rows):\n",
        "      for j in range(split.shape[0]):\n",
        "        for k in range(split.shape[1]):\n",
        "          yield ((i, k), (1, split[j, k]))\n",
        "\n",
        "\n",
        "  split_size = int(np.ceil(big_rows / maps))\n",
        "  for i in range(0, big_rows, split_size):\n",
        "    yield RECORDREADER_BIG(big_mat[i : i + split_size])\n",
        "\n",
        "\n",
        "def MAP(coordinates:(int, int), values:(int, int)):\n",
        "  yield (coordinates, values)\n",
        "\n",
        "\n",
        "def REDUCE(coordinates:(int, int), values:list):\n",
        "  small_mat_vals = [val for mat_idx, val in values if mat_idx == 0]\n",
        "  big_mat_vals = [val for mat_idx, val in values if mat_idx == 1]\n",
        "  yield (coordinates, np.dot(small_mat_vals, big_mat_vals))\n",
        "\n",
        "\n",
        "partitioned_output = MapReduceDistributed(INPUTFORMAT, MAP, REDUCE, COMBINER=None)\n",
        "partitioned_output = [(partition_id, list(partition)) for (partition_id, partition) in partitioned_output]\n",
        "\n",
        "def asmatrix_distributed(result):\n",
        "  result_list = []\n",
        "  for _, values in result:\n",
        "    for val in values:\n",
        "      result_list.append(val)\n",
        "\n",
        "  # убираем дубликаты\n",
        "  count = {}\n",
        "  for k, v in result_list:\n",
        "    if k in count:\n",
        "      count[k] += v\n",
        "    else:\n",
        "      count[k] = v\n",
        "\n",
        "  # конвертируем словарь в кортеж\n",
        "  return asmatrix((k, v) for k, v in count.items())\n",
        "\n",
        "np.allclose(reference_solution, asmatrix_distributed(partitioned_output)) # should return true"
      ]
    },
    {
      "cell_type": "markdown",
      "metadata": {
        "id": "ZuSA2P9Db6UM"
      },
      "source": [
        "Обобщите предыдущее решение на случай, когда каждая матрица генерируется несколькими RECORDREADER-ами, и проверьте его работоспособность. Будет ли работать решение, если RECORDREADER-ы будут генерировать случайное подмножество элементов матрицы?"
      ]
    },
    {
      "cell_type": "markdown",
      "metadata": {
        "id": "gTi-YWIOFssD"
      },
      "source": [
        "## Решение для блочного разбиения матрицы"
      ]
    },
    {
      "cell_type": "code",
      "execution_count": 40,
      "metadata": {
        "colab": {
          "base_uri": "https://localhost:8080/"
        },
        "id": "ehN0FqRDcwU5",
        "outputId": "ae7aa324-9e89-4418-9547-58b74596810d"
      },
      "outputs": [
        {
          "name": "stdout",
          "output_type": "stream",
          "text": [
            "480 key-value pairs were sent over a network.\n"
          ]
        },
        {
          "data": {
            "text/plain": [
              "True"
            ]
          },
          "execution_count": 40,
          "metadata": {},
          "output_type": "execute_result"
        }
      ],
      "source": [
        "maps = 2\n",
        "reducers = 1\n",
        "\n",
        "\n",
        "def INPUTFORMAT():\n",
        "  global maps\n",
        "  small_rows = small_mat.shape[0]\n",
        "  small_cols = small_mat.shape[1]\n",
        "\n",
        "  big_rows = big_mat.shape[0]\n",
        "  big_cols = big_mat.shape[1]\n",
        "\n",
        "\n",
        "  def RECORDREADER_SMALL1(split, idx):\n",
        "    for k in range(big_cols):\n",
        "      for i in range(split.shape[0]):\n",
        "        for j in range(split.shape[1]):\n",
        "          yield ((i + idx, k), (0, split[i, j]))\n",
        "\n",
        "\n",
        "  def RECORDREADER_SMALL2(split, idx):\n",
        "    for k in range(big_cols):\n",
        "      for i in range(split.shape[0]):\n",
        "        for j in range(split.shape[1]):\n",
        "          yield ((i + idx, k), (0, split[i, j]))\n",
        "\n",
        "\n",
        "  def RECORDREADER_BIG1(split, idx):\n",
        "    for i in range(small_rows):\n",
        "      for j in range(split.shape[0]):\n",
        "        for k in range(split.shape[1]):\n",
        "          yield ((i, k + idx), (1, split[j, k]))\n",
        "\n",
        "\n",
        "  def RECORDREADER_BIG2(split, idx):\n",
        "    for i in range(small_rows):\n",
        "      for j in range(split.shape[0]):\n",
        "        for k in range(split.shape[1]):\n",
        "           yield ((i, k + idx), (1, split[j, k]))\n",
        "\n",
        "\n",
        "  small_readers = {\n",
        "      0: RECORDREADER_SMALL1,\n",
        "      1: RECORDREADER_SMALL2\n",
        "  }\n",
        "\n",
        "\n",
        "  big_readers = {\n",
        "       0: RECORDREADER_BIG1,\n",
        "       1: RECORDREADER_BIG2\n",
        "  }\n",
        "\n",
        "  split_size_rows = int(np.ceil(small_rows / maps))\n",
        "  split_size_cols = int(np.ceil(small_cols / maps))\n",
        "\n",
        "  counter = -1\n",
        "  for i in range(0, small_rows, split_size_rows):\n",
        "    for j in range(0, small_cols, split_size_cols):\n",
        "      counter += 1\n",
        "      yield small_readers[counter % len(small_readers)](small_mat[i : i + split_size_rows, j : j + split_size_cols], i)\n",
        "\n",
        "\n",
        "  split_size_rows = int(np.ceil(big_rows / maps))\n",
        "  split_size_cols = int(np.ceil(big_cols / maps))\n",
        "\n",
        "  counter = -1\n",
        "  for i in range(0, big_rows, split_size_rows):\n",
        "    for j in range(0, big_cols, split_size_cols):\n",
        "      counter += 1\n",
        "      yield big_readers[counter % len(big_readers)](big_mat[i : i + split_size_rows, j : j + split_size_cols], j)\n",
        "\n",
        "\n",
        "def MAP(coordinates:(int, int), values:(int, int)):\n",
        "  yield (coordinates, values)\n",
        "\n",
        "\n",
        "def REDUCE(coordinates:(int, int), values:list):\n",
        "  small_mat_vals = [val for mat_idx, val in values if mat_idx == 0]\n",
        "  big_mat_vals = [val for mat_idx, val in values if mat_idx == 1]\n",
        "  yield (coordinates, np.dot(small_mat_vals, big_mat_vals))\n",
        "\n",
        "\n",
        "partitioned_output = MapReduceDistributed(INPUTFORMAT, MAP, REDUCE, COMBINER=None)\n",
        "partitioned_output = [(partition_id, list(partition)) for (partition_id, partition) in partitioned_output]\n",
        "\n",
        "np.allclose(reference_solution, asmatrix_distributed(partitioned_output)) # should return true"
      ]
    },
    {
      "cell_type": "markdown",
      "metadata": {
        "id": "XQhBtyxtGW5S"
      },
      "source": [
        "## Решение для рандомного распределения индексов\n"
      ]
    },
    {
      "cell_type": "code",
      "execution_count": 41,
      "metadata": {
        "id": "Up5EHvS-MOI_"
      },
      "outputs": [],
      "source": [
        "import random\n",
        "def shuffle_idxs(mat):\n",
        "  idxs_list = [(i, j) for i in range(mat.shape[0]) for j in range(mat.shape[1])]\n",
        "  random.shuffle(idxs_list)\n",
        "  return idxs_list"
      ]
    },
    {
      "cell_type": "markdown",
      "metadata": {
        "id": "jaF24mClbEEU"
      },
      "source": [
        "### Рандомное распределение с использованием такого же кода REDUCER'ов и RECORDREADER'ов, как выше"
      ]
    },
    {
      "cell_type": "code",
      "execution_count": 42,
      "metadata": {
        "colab": {
          "base_uri": "https://localhost:8080/"
        },
        "id": "hPbW8rLJbUV-",
        "outputId": "f49ae96e-02bd-450b-bab4-88c7c725f5db"
      },
      "outputs": [
        {
          "name": "stdout",
          "output_type": "stream",
          "text": [
            "480 key-value pairs were sent over a network.\n"
          ]
        },
        {
          "data": {
            "text/plain": [
              "False"
            ]
          },
          "execution_count": 42,
          "metadata": {},
          "output_type": "execute_result"
        }
      ],
      "source": [
        "maps = 2\n",
        "reducers = 1\n",
        "\n",
        "def INPUTFORMAT():\n",
        "  global maps\n",
        "  small_rows = small_mat.shape[0]\n",
        "  small_cols = small_mat.shape[1]\n",
        "\n",
        "  big_rows = big_mat.shape[0]\n",
        "  big_cols = big_mat.shape[1]\n",
        "\n",
        "\n",
        "  def RECORDREADER_SMALL1(split, idx):\n",
        "    for k in range(big_cols):\n",
        "      for i in range(split.shape[0]):\n",
        "        for j in range(split.shape[1]):\n",
        "          yield ((i + idx, k), (0, split[i, j]))\n",
        "\n",
        "\n",
        "  def RECORDREADER_SMALL2(split, idx):\n",
        "    for k in range(big_cols):\n",
        "      for i in range(split.shape[0]):\n",
        "        for j in range(split.shape[1]):\n",
        "          yield ((i + idx, k), (0, split[i, j]))\n",
        "\n",
        "\n",
        "  def RECORDREADER_BIG1(split, idx):\n",
        "    for i in range(small_rows):\n",
        "      for j in range(split.shape[0]):\n",
        "        for k in range(split.shape[1]):\n",
        "          yield ((i, k + idx), (1, split[j, k]))\n",
        "\n",
        "\n",
        "  def RECORDREADER_BIG2(split, idx):\n",
        "    for i in range(small_rows):\n",
        "      for j in range(split.shape[0]):\n",
        "        for k in range(split.shape[1]):\n",
        "           yield ((i, k + idx), (1, split[j, k]))\n",
        "\n",
        "\n",
        "  small_readers = {\n",
        "      0: RECORDREADER_SMALL1,\n",
        "      1: RECORDREADER_SMALL2\n",
        "  }\n",
        "\n",
        "\n",
        "  big_readers = {\n",
        "       0: RECORDREADER_BIG1,\n",
        "       1: RECORDREADER_BIG2\n",
        "  }\n",
        "\n",
        "  counter = -1\n",
        "  small_idxs = shuffle_idxs(small_mat)\n",
        "  for (i, j) in small_idxs:\n",
        "    counter += 1\n",
        "    yield small_readers[counter % len(small_readers)](np.array([[small_mat[i, j]]]), i)\n",
        "\n",
        "\n",
        "  counter = -1\n",
        "  big_idxs = shuffle_idxs(big_mat)\n",
        "  for (i, j) in big_idxs:\n",
        "    counter += 1\n",
        "    yield big_readers[counter % len(big_readers)](np.array([[big_mat[i, j]]]), j)\n",
        "\n",
        "\n",
        "def MAP(coordinates:(int, int), values:(int, int)):\n",
        "  yield (coordinates, values)\n",
        "\n",
        "\n",
        "def REDUCE(coordinates:(int, int), values:list):\n",
        "  small_mat_vals = [val for mat_idx, val in values if mat_idx == 0]\n",
        "  big_mat_vals = [val for mat_idx, val in values if mat_idx == 1]\n",
        "  yield (coordinates, np.dot(small_mat_vals, big_mat_vals))\n",
        "\n",
        "\n",
        "partitioned_output = MapReduceDistributed(INPUTFORMAT, MAP, REDUCE, COMBINER=None)\n",
        "partitioned_output = [(partition_id, list(partition)) for (partition_id, partition) in partitioned_output]\n",
        "\n",
        "np.allclose(reference_solution, asmatrix_distributed(partitioned_output)) # should return true"
      ]
    },
    {
      "cell_type": "markdown",
      "metadata": {
        "id": "W1kc1GaNbi4J"
      },
      "source": [
        "Как мы видим, решение, когда RECORDREADER-ы генерируют случайное подмножество элементов матрицы, будет работать в том случае, если после случайного распределения элементов порядок совпадет с порядком элементов в исходной матрице"
      ]
    },
    {
      "cell_type": "markdown",
      "metadata": {
        "id": "NQmxHkyLbT8_"
      },
      "source": [
        "### Рандомное распределение с использованием доработанного кода REDUCER'ов и RECORDREADER'ов"
      ]
    },
    {
      "cell_type": "code",
      "execution_count": 43,
      "metadata": {
        "colab": {
          "base_uri": "https://localhost:8080/"
        },
        "id": "3iKgAXwrGWkM",
        "outputId": "ff6a5fd8-08a1-4324-df6f-9f62be9fce33"
      },
      "outputs": [
        {
          "name": "stdout",
          "output_type": "stream",
          "text": [
            "480 key-value pairs were sent over a network.\n"
          ]
        },
        {
          "data": {
            "text/plain": [
              "True"
            ]
          },
          "execution_count": 43,
          "metadata": {},
          "output_type": "execute_result"
        }
      ],
      "source": [
        "maps = 2\n",
        "reducers = 1\n",
        "\n",
        "def INPUTFORMAT():\n",
        "  global maps\n",
        "  small_rows = small_mat.shape[0]\n",
        "  small_cols = small_mat.shape[1]\n",
        "\n",
        "  big_rows = big_mat.shape[0]\n",
        "  big_cols = big_mat.shape[1]\n",
        "\n",
        "\n",
        "  def RECORDREADER_SMALL1(split, idxs):\n",
        "    row, col = idxs\n",
        "    for k in range(big_cols):\n",
        "      for i in range(split.shape[0]):\n",
        "        for j in range(split.shape[1]):\n",
        "          yield ((i + row, k), (0, col, split[i, j]))\n",
        "\n",
        "\n",
        "  def RECORDREADER_SMALL2(split, idxs):\n",
        "    row, col = idxs\n",
        "    for k in range(big_cols):\n",
        "      for i in range(split.shape[0]):\n",
        "        for j in range(split.shape[1]):\n",
        "          yield ((i + row, k), (0, col, split[i, j]))\n",
        "\n",
        "\n",
        "  def RECORDREADER_BIG1(split, idxs):\n",
        "    row, col = idxs\n",
        "    for i in range(small_rows):\n",
        "      for j in range(split.shape[0]):\n",
        "        for k in range(split.shape[1]):\n",
        "          yield ((i, k + col), (1, row, split[j, k]))\n",
        "\n",
        "\n",
        "  def RECORDREADER_BIG2(split, idxs):\n",
        "    row, col = idxs\n",
        "    for i in range(small_rows):\n",
        "      for j in range(split.shape[0]):\n",
        "        for k in range(split.shape[1]):\n",
        "           yield ((i, k + col), (1, row, split[j, k]))\n",
        "\n",
        "\n",
        "  small_readers = {\n",
        "      0: RECORDREADER_SMALL1,\n",
        "      1: RECORDREADER_SMALL2\n",
        "  }\n",
        "\n",
        "\n",
        "  big_readers = {\n",
        "       0: RECORDREADER_BIG1,\n",
        "       1: RECORDREADER_BIG2\n",
        "  }\n",
        "\n",
        "  counter = -1\n",
        "  small_idxs = shuffle_idxs(small_mat)\n",
        "  for (i, j) in small_idxs:\n",
        "    counter += 1\n",
        "    yield small_readers[counter % len(small_readers)](np.array([[small_mat[i, j]]]), (i, j))\n",
        "\n",
        "\n",
        "  counter = -1\n",
        "  big_idxs = shuffle_idxs(big_mat)\n",
        "  for (i, j) in big_idxs:\n",
        "    counter += 1\n",
        "    yield big_readers[counter % len(big_readers)](np.array([[big_mat[i, j]]]), (i, j))\n",
        "\n",
        "\n",
        "def MAP(coordinates:(int, int), values:(int, int, int)):\n",
        "  yield (coordinates, values)\n",
        "\n",
        "\n",
        "def REDUCE(coordinates:(int, int), values:list):\n",
        "  sorted_values = sorted(values, key=lambda x: x[1])\n",
        "  small_mat_vals = [val for mat_idx, col, val in sorted_values if mat_idx == 0]\n",
        "  big_mat_vals = [val for mat_idx, row, val in sorted_values if mat_idx == 1]\n",
        "  yield (coordinates, np.dot(small_mat_vals, big_mat_vals))\n",
        "\n",
        "\n",
        "partitioned_output = MapReduceDistributed(INPUTFORMAT, MAP, REDUCE, COMBINER=None)\n",
        "partitioned_output = [(partition_id, list(partition)) for (partition_id, partition) in partitioned_output]\n",
        "\n",
        "np.allclose(reference_solution, asmatrix_distributed(partitioned_output)) # should return true"
      ]
    },
    {
      "cell_type": "markdown",
      "metadata": {
        "id": "5hI6Gs1XblVs"
      },
      "source": [
        "Как мы видим, решение, когда RECORDREADER-ы генерируют случайное подмножество элементов матрицы, будет работать в том случае, если в RECORDREADER вместе со значением и индексом матрицы будет передано положение элемента в строке/матрице"
      ]
    }
  ],
  "metadata": {
    "colab": {
      "provenance": []
    },
    "kernelspec": {
      "display_name": "Python 3",
      "name": "python3"
    },
    "language_info": {
      "codemirror_mode": {
        "name": "ipython",
        "version": 3
      },
      "file_extension": ".py",
      "mimetype": "text/x-python",
      "name": "python",
      "nbconvert_exporter": "python",
      "pygments_lexer": "ipython3",
      "version": "3.12.0"
    }
  },
  "nbformat": 4,
  "nbformat_minor": 0
}
